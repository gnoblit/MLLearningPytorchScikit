{
 "cells": [
  {
   "cell_type": "code",
   "execution_count": 6,
   "metadata": {},
   "outputs": [],
   "source": [
    "from sklearn import datasets\n",
    "import numpy as np\n",
    "from sklearn.model_selection import train_test_split\n",
    "from sklearn.preprocessing import StandardScaler"
   ]
  },
  {
   "cell_type": "code",
   "execution_count": 2,
   "metadata": {},
   "outputs": [
    {
     "name": "stdout",
     "output_type": "stream",
     "text": [
      "Class labels:  [0 1 2]\n"
     ]
    }
   ],
   "source": [
    "iris = datasets.load_iris()\n",
    "X = iris.data[:, [2,3]]\n",
    "y = iris.target\n",
    "\n",
    "print('Class labels: ', np.unique(y))"
   ]
  },
  {
   "cell_type": "code",
   "execution_count": 5,
   "metadata": {},
   "outputs": [
    {
     "name": "stdout",
     "output_type": "stream",
     "text": [
      "Label counts in y:  [50 50 50]\n",
      "Label counts in y_train:  [35 35 35]\n",
      "Label counts in y_test:  [15 15 15]\n"
     ]
    }
   ],
   "source": [
    "X_train, X_test, y_train, y_test = train_test_split(X, y, test_size = .3, random_state = 1, stratify = y)\n",
    "print('Label counts in y: ', np.bincount(y))\n",
    "print('Label counts in y_train: ', np.bincount(y_train))\n",
    "print('Label counts in y_test: ', np.bincount(y_test))"
   ]
  },
  {
   "cell_type": "code",
   "execution_count": 7,
   "metadata": {},
   "outputs": [],
   "source": [
    "sc = StandardScaler()\n",
    "sc.fit(X_train)\n",
    "X_train_std = sc.transform(X_train)\n",
    "X_test_std = sc.transform(X_test)"
   ]
  },
  {
   "cell_type": "code",
   "execution_count": 9,
   "metadata": {},
   "outputs": [
    {
     "name": "stdout",
     "output_type": "stream",
     "text": [
      "Misclassified Examples: 1\n"
     ]
    }
   ],
   "source": [
    "from sklearn.linear_model import Perceptron\n",
    "ppn = Perceptron(eta0 = 0.1, random_state=1)\n",
    "ppn.fit(X_train_std, y_train)\n",
    "\n",
    "y_pred = ppn.predict(X_test_std)\n",
    "print('Misclassified Examples: %d' % (y_test != y_pred).sum())"
   ]
  },
  {
   "cell_type": "code",
   "execution_count": 12,
   "metadata": {},
   "outputs": [],
   "source": [
    "class LogisticRegressionGD:\n",
    "    \"\"\"\n",
    "    Gradient descent-based logistic regression classifier.\n",
    "\n",
    "    PARAMETERS\n",
    "    ----------\n",
    "    eta  :  float\n",
    "        Learning rate between 0 and 1\n",
    "    n_iter  :  int\n",
    "        Passes over the dataset\n",
    "    random_state  :  int\n",
    "        Random number seed for random weight inits\n",
    "\n",
    "    ATTRIBUTES\n",
    "    ----------\n",
    "    w_  :  1-d array\n",
    "        Weights after training.\n",
    "    b_  :  scalar\n",
    "        Bias unit after fitting\n",
    "    losses_  :  list\n",
    "        MSE loss function values in each epoch.\n",
    "    \"\"\"\n",
    "\n",
    "    def __init__(self, eta = 0.01, n_iter = 50, random_state = 1):\n",
    "        self.eta = eta\n",
    "        self.n_iter = n_iter\n",
    "        self.random_state = random_state\n",
    "\n",
    "    def fit(self, X, y):\n",
    "        \"\"\" Fit training data\n",
    "        \n",
    "        PARAMETERS\n",
    "        ----------\n",
    "        X  :  {Array-like}, shape = [n_examples, n_featers]\n",
    "            Training vectors, where n_examples is the number of examples and n_features is the number of features.\n",
    "        y  :  array-like, shape = [n_examples] \n",
    "            Target values\n",
    "            \n",
    "        RETURNS\n",
    "        -------\n",
    "        self  :  Instance of LogisticRegressionGD\n",
    "        \"\"\"\n",
    "\n",
    "        rgen= np.random.RandomState(self.random_state)\n",
    "        self.w_ = rgen.normal(loc= 0.0, scale =0.01, size = X.shape[1])\n",
    "        self.b_ = np.float(0.)\n",
    "        self.losses_ = []\n",
    "\n",
    "        for iter in range(self.n_iter):\n",
    "            net_input = self.net_input(X)\n",
    "            output = self.activation(net_input)\n",
    "            errors = y-output\n",
    "            self.w_ += self.eta*2.0*X.T.dot(errors)/X.shape[0]\n",
    "            self.b_ += self.eta*2.0*errors.mean()\n",
    "            loss = (-y.dot(np.log(output)) - ((1-y).dot(np.log(1-output)))/X.shape[0])\n",
    "            self.losses_.append(loss)\n",
    "        return self\n",
    "\n",
    "    def net_input(self, X):\n",
    "        \"\"\"Calculate net input\"\"\"\n",
    "        return np.dot(X, self.w_) + self.b_\n",
    "    \n",
    "    def activation(self, z):\n",
    "        \"\"\"Compute logistic sigmoid activatoin\"\"\"\n",
    "        return 1./(1. + np.exp(-np.clip(z, -250, 250)))\n",
    "\n",
    "    def predict(self, X):\n",
    "        \"\"\"Return class label after unit step\"\"\"\n",
    "        return np.where(self.activation(self.net_input(X)) >= .5, 1, 0)"
   ]
  },
  {
   "cell_type": "code",
   "execution_count": 14,
   "metadata": {},
   "outputs": [
    {
     "name": "stderr",
     "output_type": "stream",
     "text": [
      "C:\\Users\\alexn\\AppData\\Local\\Temp\\ipykernel_3044\\3560278445.py:46: DeprecationWarning: `np.float` is a deprecated alias for the builtin `float`. To silence this warning, use `float` by itself. Doing this will not modify any behavior and is safe. If you specifically wanted the numpy scalar type, use `np.float64` here.\n",
      "Deprecated in NumPy 1.20; for more details and guidance: https://numpy.org/devdocs/release/1.20.0-notes.html#deprecations\n",
      "  self.b_ = np.float(0.)\n"
     ]
    },
    {
     "data": {
      "text/plain": [
       "<__main__.LogisticRegressionGD at 0x23694b9be80>"
      ]
     },
     "execution_count": 14,
     "metadata": {},
     "output_type": "execute_result"
    }
   ],
   "source": [
    "X_train_01_subset = X_train_std[(y_train== 0) | (y_train == 1)]\n",
    "y_train_01_subset = y_train[(y_train == 0) | (y_train == 1)]\n",
    "lrgd = LogisticRegressionGD(eta = .3,\n",
    "                            n_iter = 1000,\n",
    "                            random_state=1)\n",
    "lrgd.fit(X_train_01_subset, y_train_01_subset)\n"
   ]
  },
  {
   "cell_type": "code",
   "execution_count": 16,
   "metadata": {},
   "outputs": [
    {
     "data": {
      "image/png": "[encoded data removed]",
      "text/plain": [
       "<Figure size 432x288 with 1 Axes>"
      ]
     },
     "metadata": {
      "needs_background": "light"
     },
     "output_type": "display_data"
    }
   ],
   "source": [
    "import matplotlib.pyplot as plt\n",
    "from sklearn.linear_model import LogisticRegression\n",
    "weights, params = [], []\n",
    "for iter in np.arange(-5, 5):\n",
    "    lr = LogisticRegression(C = 10.**iter,\n",
    "    multi_class = 'ovr')\n",
    "    lr.fit(X_train_std, y_train)\n",
    "    weights.append(lr.coef_[1])\n",
    "    params.append(10.**iter)\n",
    "weights = np.array(weights)\n",
    "plt.plot(params, weights[:, 0],\n",
    "    label = 'Petal Length')\n",
    "plt.plot(params, weights[:, 1], linestyle = '--',\n",
    "    label = 'Petal Width')\n",
    "plt.ylabel('Weight Coeff')\n",
    "plt.xlabel('C')\n",
    "plt.legend(loc = 'upper left')\n",
    "plt.xscale('log')\n",
    "plt.show()"
   ]
  },
  {
   "cell_type": "code",
   "execution_count": 17,
   "metadata": {},
   "outputs": [
    {
     "data": {
      "text/plain": [
       "SVC(kernel='linear', random_state=1)"
      ]
     },
     "execution_count": 17,
     "metadata": {},
     "output_type": "execute_result"
    }
   ],
   "source": [
    "from sklearn.svm import SVC\n",
    "svm = SVC(kernel = 'linear', C = 1.0, random_state=1)\n",
    "svm.fit(X_train_std, y_train)\n"
   ]
  },
  {
   "cell_type": "code",
   "execution_count": 23,
   "metadata": {},
   "outputs": [],
   "source": [
    "from sklearn.tree import DecisionTreeClassifier\n",
    "tree_model = DecisionTreeClassifier(criterion='gini',\n",
    "                                    max_depth = 4,\n",
    "                                    random_state=1)\n",
    "                                    \n",
    "tree_model.fit(X_train, y_train)\n",
    "X_combined = np.vstack((X_train, X_test))\n",
    "y_combined = np.hstack((y_train, y_test))"
   ]
  },
  {
   "cell_type": "code",
   "execution_count": 25,
   "metadata": {},
   "outputs": [
    {
     "data": {
      "image/png": "[encoded data removed]",
      "text/plain": [
       "<Figure size 432x288 with 1 Axes>"
      ]
     },
     "metadata": {
      "needs_background": "light"
     },
     "output_type": "display_data"
    }
   ],
   "source": [
    "from sklearn import tree\n",
    "feature_names = ['Sepal Length', 'Sepal Width',\n",
    "                'Petal Length', 'Petal Width']\n",
    "tree.plot_tree(tree_model,\n",
    "                feature_names=feature_names,\n",
    "                filled = 'true'\n",
    ")\n",
    "plt.show()"
   ]
  },
  {
   "cell_type": "code",
   "execution_count": 27,
   "metadata": {},
   "outputs": [
    {
     "data": {
      "text/plain": [
       "RandomForestClassifier(n_estimators=25, n_jobs=2, random_state=1)"
      ]
     },
     "execution_count": 27,
     "metadata": {},
     "output_type": "execute_result"
    }
   ],
   "source": [
    "from sklearn.ensemble import RandomForestClassifier\n",
    "forest = RandomForestClassifier(n_estimators=25,\n",
    "                                random_state = 1,\n",
    "                                n_jobs = 2)\n",
    "\n",
    "forest.fit(X_train, y_train)\n"
   ]
  }
 ],
 "metadata": {
  "kernelspec": {
   "display_name": "Python 3.9.12 ('MLLearning')",
   "language": "python",
   "name": "python3"
  },
  "language_info": {
   "codemirror_mode": {
    "name": "ipython",
    "version": 3
   },
   "file_extension": ".py",
   "mimetype": "text/x-python",
   "name": "python",
   "nbconvert_exporter": "python",
   "pygments_lexer": "ipython3",
   "version": "3.9.12"
  },
  "orig_nbformat": 4,
  "vscode": {
   "interpreter": {
    "hash": "aca0f97f947eaf1aa895a93a305da87f75da74d6442f10a4bd5c35fede1a2f49"
   }
  }
 },
 "nbformat": 4,
 "nbformat_minor": 2
}
